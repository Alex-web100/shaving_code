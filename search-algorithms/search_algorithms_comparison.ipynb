{
 "cells": [
  {
   "cell_type": "code",
   "execution_count": 4,
   "metadata": {},
   "outputs": [
    {
     "name": "stdout",
     "output_type": "stream",
     "text": [
      "[Open3D INFO] No point has been picked.\n",
      "[Open3D INFO] No point has been picked.\n",
      "[Open3D INFO] Picked point #802 (-0.36, -0.1, -1.5) to add in queue.\n",
      "[Open3D INFO] Picked point #1736 (-0.0030, -0.1, -1.5) to add in queue.\n"
     ]
    }
   ],
   "source": [
    "import open3d as o3d\n",
    "import numpy as np\n",
    "\n",
    "bounding_box = o3d.geometry.OrientedBoundingBox(np.zeros(3),np.identity(3),np.ones(3)/.315)\n",
    "\n",
    "pcd = o3d.io.read_point_cloud(\"/home/sashawald/Documents/shaving_code-main/clouds/2022-06-03.ply\")\n",
    "down_pcd = pcd.voxel_down_sample(0.035)\n",
    "crop_pcd = down_pcd.crop(bounding_box)\n",
    "\n",
    "vis = o3d.visualization.VisualizerWithEditing()\n",
    "vis.create_window()\n",
    "vis.add_geometry(crop_pcd)\n",
    "vis.run()  \n",
    "vis.destroy_window()\n",
    "pdata = vis.get_picked_points()\n",
    "dpcd=crop_pcd"
   ]
  },
  {
   "cell_type": "code",
   "execution_count": 5,
   "metadata": {},
   "outputs": [
    {
     "name": "stdout",
     "output_type": "stream",
     "text": [
      "0\n"
     ]
    }
   ],
   "source": [
    "#Ray Casting\n",
    "from LineMesh import *\n",
    "#Visualize Cylinder Mesh + Point Cloud\n",
    "points = [crop_pcd.points[(pdata[0])],\n",
    "          crop_pcd.points[(pdata[1])]]\n",
    "lines = [[0,1]]\n",
    "colors = [[1, 0, 0] for i in range(len(lines))]\n",
    "line_set = o3d.geometry.LineSet(\n",
    "    points=o3d.utility.Vector3dVector(points),\n",
    "    lines=o3d.utility.Vector2iVector(lines),\n",
    ")\n",
    "line_set.colors = o3d.utility.Vector3dVector(colors)\n",
    "\n",
    "#Produce corresponding cylinder with LineMesh\n",
    "line_mesh=LineMesh(points,radius=0.01)\n",
    "line_mesh_geoms=line_mesh.cylinder_segments\n",
    "\n",
    "#Ray Casting\n",
    "#Without some downsampling, this process will take 10-15 seconds\n",
    "cyl = o3d.t.geometry.TriangleMesh.from_legacy(line_mesh_geoms[0])\n",
    "scene = o3d.t.geometry.RaycastingScene()\n",
    "cyl_id = scene.add_triangles(cyl)\n",
    "print(cyl_id)\n",
    "\n",
    "pclrays = np.ndarray.tolist(np.asarray(crop_pcd.points))\n",
    "for ray in pclrays:\n",
    "    ray.extend([0,0,1])\n",
    "\n",
    "rays = o3d.core.Tensor(pclrays,\n",
    "                       dtype=o3d.core.Dtype.Float32)\n",
    "ans = (scene.cast_rays(rays))['geometry_ids']\n",
    "count=0\n",
    "found=[]\n",
    "for val in ans:\n",
    "    if val == 0:\n",
    "        found.append(count)\n",
    "    count=count+1\n",
    "\n",
    "crop_pcd.paint_uniform_color([0,1,0])\n",
    "foundpcd = crop_pcd.select_by_index(found)\n",
    "foundpcd.paint_uniform_color([1,0,1])\n",
    "o3d.visualization.draw_geometries([crop_pcd,foundpcd])\n"
   ]
  },
  {
   "cell_type": "code",
   "execution_count": 6,
   "metadata": {},
   "outputs": [],
   "source": [
    "import networkx as nx\n",
    "G = nx.Graph()\n",
    "\n",
    "pcd_tree = o3d.geometry.KDTreeFlann(dpcd)\n",
    "count=0\n",
    "for vertex in dpcd.points:\n",
    "    [k, idx, _] = pcd_tree.search_knn_vector_3d(vertex, 5)\n",
    "    for v_curr in idx:\n",
    "        current_vertex=dpcd.points[v_curr]\n",
    "        if not (count==v_curr):\n",
    "            dist = np.sqrt(np.sum((vertex-current_vertex)**2, axis=0))\n",
    "            G.add_edge(count,v_curr,weight=dist)\n",
    "    count=count+1\n",
    "\n",
    "path=(nx.dijkstra_path(G,pdata[0],pdata[1]))\n",
    "foundpcd = dpcd.select_by_index(path)\n",
    "foundpcd.paint_uniform_color([1, 0, 0])\n",
    "dpcd.paint_uniform_color([0,1,0])\n",
    "o3d.visualization.draw_geometries([dpcd,foundpcd])"
   ]
  },
  {
   "cell_type": "code",
   "execution_count": 7,
   "metadata": {},
   "outputs": [],
   "source": [
    "import networkx as nx\n",
    "G = nx.Graph()\n",
    "\n",
    "pcd_tree = o3d.geometry.KDTreeFlann(dpcd)\n",
    "count=0\n",
    "for vertex in dpcd.points:\n",
    "    [k, idx, _] = pcd_tree.search_knn_vector_3d(vertex, 5)\n",
    "    for v_curr in idx:\n",
    "        current_vertex=dpcd.points[v_curr]\n",
    "        if not (count==v_curr):\n",
    "            dist = np.sqrt(np.sum((vertex-current_vertex)**2, axis=0))\n",
    "            G.add_edge(count,v_curr,weight=dist)\n",
    "    count=count+1\n",
    "\n",
    "search=(nx.bfs_tree(G,pdata[0],sort_neighbors=None))\n",
    "path=nx.shortest_path(search,source=pdata[0],target=pdata[1])\n",
    "foundpcd = dpcd.select_by_index(path)\n",
    "foundpcd.paint_uniform_color([1, 0, 0])\n",
    "dpcd.paint_uniform_color([0,1,0])\n",
    "o3d.visualization.draw_geometries([dpcd,foundpcd]) "
   ]
  }
 ],
 "metadata": {
  "interpreter": {
   "hash": "fc0d0baa39bdae4e9cf1ed68eeeb78666be756c020da9204aba04e68bb6019c1"
  },
  "kernelspec": {
   "display_name": "Python 3.6.9 ('newenv': venv)",
   "language": "python",
   "name": "python3"
  },
  "language_info": {
   "codemirror_mode": {
    "name": "ipython",
    "version": 3
   },
   "file_extension": ".py",
   "mimetype": "text/x-python",
   "name": "python",
   "nbconvert_exporter": "python",
   "pygments_lexer": "ipython3",
   "version": "3.6.9"
  },
  "orig_nbformat": 4
 },
 "nbformat": 4,
 "nbformat_minor": 2
}
