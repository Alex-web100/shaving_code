{
 "cells": [
  {
   "cell_type": "code",
   "execution_count": 95,
   "metadata": {},
   "outputs": [],
   "source": [
    "from datetime import date\n",
    "import numpy as np\n",
    "import open3d as o3d\n",
    "\n",
    "today = date.today()\n",
    "#Normals Vis\n",
    "import open3d as o3d\n",
    "from pyntcloud import PyntCloud\n",
    "\n",
    "pcd = o3d.io.read_point_cloud(\"/home/sashawald/Documents/shaving_code-main/clouds/\"+str(today)+\".ply\")\n",
    "\n",
    "#Visualize Original\n",
    "#print(pcd)\n",
    "#o3d.visualization.draw_geometries([pcd])\n",
    "R = np.identity(3)  \n",
    "extent = np.ones(3)/.31 # trying to create a bounding box below 1 unit\n",
    "center = np.zeros(3) \n",
    "obb = o3d.geometry.OrientedBoundingBox(center,R,extent)\n",
    "pcd = pcd.crop(obb)\n",
    "dpcd = pcd.voxel_down_sample(voxel_size=0.035)\n",
    "#use draw_geometries if you don't need to edit the result\n",
    "o3d.visualization.draw_geometries_with_editing([dpcd])\n",
    "#cloud = PyntCloud.from_instance(\"open3d\", pcd)\n",
    "#scene = cloud.plot(return_scene=True, position=(1,1,1))\n"
   ]
  },
  {
   "cell_type": "code",
   "execution_count": 101,
   "metadata": {},
   "outputs": [
    {
     "name": "stdout",
     "output_type": "stream",
     "text": [
      "[Open3D INFO] Picked point #1114 (-0.044, -0.18, -1.4) to add in queue.\n",
      "[Open3D INFO] Picked point #1982 (0.34, -0.16, -1.5) to add in queue.\n"
     ]
    }
   ],
   "source": [
    "#Code  for picking specific points: shift+left click to select, shift+right click to deselect\n",
    "#close visualization window to return selected points\n",
    "import numpy as np\n",
    "from LineMesh import *\n",
    "\n",
    "vis = o3d.visualization.VisualizerWithEditing()\n",
    "vis.create_window()\n",
    "vis.add_geometry(dpcd)\n",
    "vis.run()  \n",
    "vis.destroy_window()\n",
    "pdata = vis.get_picked_points()\n"
   ]
  },
  {
   "cell_type": "code",
   "execution_count": 30,
   "metadata": {},
   "outputs": [],
   "source": [
    "alpha = 0.25\n",
    "mesh = o3d.geometry.TriangleMesh.create_from_point_cloud_alpha_shape(dpcd,alpha)\n",
    "mesh.compute_vertex_normals()\n",
    "o3d.visualization.draw_geometries([mesh],mesh_show_back_face=True)"
   ]
  },
  {
   "cell_type": "code",
   "execution_count": 11,
   "metadata": {},
   "outputs": [
    {
     "name": "stdout",
     "output_type": "stream",
     "text": [
      "run Poisson surface reconstruction\n",
      "[Open3D DEBUG] Input Points / Samples: 303839 / 124031\n",
      "[Open3D DEBUG] #   Got kernel density: 0.0335779 (s), 650.297 (MB) / 650.297 (MB) / 650 (MB)\n",
      "[Open3D DEBUG] #     Got normal field: 0.351765 (s), 669.391 (MB) / 669.391 (MB) / 669 (MB)\n",
      "[Open3D DEBUG] Point weight / Estimated Area: 3.253682e-06 / 9.885955e-01\n",
      "[Open3D DEBUG] #       Finalized tree: 0.257862 (s), 710.621 (MB) / 710.621 (MB) / 710 (MB)\n",
      "[Open3D DEBUG] #  Set FEM constraints: 0.129563 (s), 710.621 (MB) / 710.621 (MB) / 710 (MB)\n",
      "[Open3D DEBUG] #Set point constraints: 0.0465119 (s), 710.621 (MB) / 710.621 (MB) / 710 (MB)\n",
      "[Open3D DEBUG] Leaf Nodes / Active Nodes / Ghost Nodes: 1184317 / 1329112 / 24393\n",
      "[Open3D DEBUG] Memory Usage: 710.621 MB\n",
      "[Open3D DEBUG] # Linear system solved: 1.20031 (s), 746.023 (MB) / 746.023 (MB) / 746 (MB)\n",
      "[Open3D DEBUG] Got average: 0.00598001 (s), 746.023 (MB) / 746.023 (MB) / 746 (MB)\n",
      "[Open3D DEBUG] Iso-Value: 4.981425e-01 = 1.513551e+05 / 3.038390e+05\n",
      "[Open3D DEBUG] #          Total Solve:       7.1 (s),     805.7 (MB)\n",
      "TriangleMesh with 226581 points and 452952 triangles.\n"
     ]
    }
   ],
   "source": [
    "#Poisson (not using for now)\n",
    "print('run Poisson surface reconstruction')\n",
    "with o3d.utility.VerbosityContextManager(\n",
    "        o3d.utility.VerbosityLevel.Debug) as cm:\n",
    "    mesh, densities = o3d.geometry.TriangleMesh.create_from_point_cloud_poisson(\n",
    "        pcd, depth=9)\n",
    "print(mesh)\n",
    "o3d.visualization.draw_geometries([mesh],\n",
    "                                  zoom=0.664,\n",
    "                                  front=[-0.4761, -0.4698, -0.7434],\n",
    "                                  lookat=[1.8900, 3.2596, 0.9284],\n",
    "                                  up=[0.2304, -0.8825, 0.4101])"
   ]
  },
  {
   "cell_type": "code",
   "execution_count": 110,
   "metadata": {},
   "outputs": [],
   "source": [
    "import dijkstra as djk\n",
    "graph_d = djk.Graph()\n",
    "#found that it doesn't work well with a mesh - will have to revisit\n",
    "\"\"\" for edge in edgeindices:\n",
    "    p1 = vertices[edge[0]]\n",
    "    p2 = vertices[edge[1]]\n",
    "    dist = np.linalg.norm(p1 - p2)\n",
    "    graph_d.add_edge(edge[0],edge[1],dist)\n",
    " \"\"\"\n",
    "pcd_tree = o3d.geometry.KDTreeFlann(dpcd)\n",
    "count=0\n",
    "for v in dpcd.points:\n",
    "    [k, idx, _] = pcd_tree.search_knn_vector_3d(dpcd.points[count], 5)\n",
    "    for v_curr in idx:\n",
    "        if not np.array_equal(v,v_curr):\n",
    "            p1 = v\n",
    "            p2 = v_curr\n",
    "            sq_d = np.sum((p1-p2)**2, axis=0)\n",
    "            dist=np.sqrt(sq_d)\n",
    "            graph_d.add_edge(count,v_curr,dist)\n",
    "    count=count+1"
   ]
  },
  {
   "cell_type": "code",
   "execution_count": 111,
   "metadata": {},
   "outputs": [],
   "source": [
    "dijkstra = djk.DijkstraSPF(graph_d,pdata[0])\n",
    "foundpcd = dpcd.select_by_index(dijkstra.get_path((pdata[1])))\n",
    "foundpcd.paint_uniform_color([1, 0, 0])\n",
    "dpcd.paint_uniform_color([0,1,0])\n",
    "o3d.visualization.draw_geometries([dpcd,foundpcd])"
   ]
  }
 ],
 "metadata": {
  "interpreter": {
   "hash": "31f2aee4e71d21fbe5cf8b01ff0e069b9275f58929596ceb00d14d90e3e16cd6"
  },
  "kernelspec": {
   "display_name": "Python 3.6.9 64-bit",
   "language": "python",
   "name": "python3"
  },
  "language_info": {
   "codemirror_mode": {
    "name": "ipython",
    "version": 3
   },
   "file_extension": ".py",
   "mimetype": "text/x-python",
   "name": "python",
   "nbconvert_exporter": "python",
   "pygments_lexer": "ipython3",
   "version": "3.6.9"
  },
  "orig_nbformat": 4
 },
 "nbformat": 4,
 "nbformat_minor": 2
}
