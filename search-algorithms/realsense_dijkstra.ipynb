{
 "cells": [
  {
   "cell_type": "code",
   "execution_count": 27,
   "metadata": {},
   "outputs": [],
   "source": [
    "from datetime import date\n",
    "import numpy as np\n",
    "import open3d as o3d\n",
    "\n",
    "today = date.today()\n",
    "#Normals Vis\n",
    "import open3d as o3d\n",
    "from pyntcloud import PyntCloud\n",
    "\n",
    "pcd = o3d.io.read_point_cloud(\"/home/sashawald/Documents/shaving_code-main/clouds/2022-06-03.ply\")\n",
    "\n",
    "#Visualize Original\n",
    "#print(pcd)\n",
    "#o3d.visualization.draw_geometries([pcd])\n",
    "R = np.identity(3)  \n",
    "extent = np.ones(3)/.32 # trying to create a bounding box below 1 unit\n",
    "center = np.zeros(3) \n",
    "obb = o3d.geometry.OrientedBoundingBox(center,R,extent)\n",
    "pcd = pcd.crop(obb)\n",
    "dpcd = pcd.voxel_down_sample(voxel_size=0.035)\n",
    "#use draw_geometries if you don't need to edit the result\n",
    "o3d.visualization.draw_geometries_with_editing([dpcd])\n",
    "#cloud = PyntCloud.from_instance(\"open3d\", pcd)\n",
    "#scene = cloud.plot(return_scene=True, position=(1,1,1))\n"
   ]
  },
  {
   "cell_type": "code",
   "execution_count": 28,
   "metadata": {},
   "outputs": [
    {
     "name": "stdout",
     "output_type": "stream",
     "text": [
      "[Open3D INFO] Picked point #780 (-0.16, -0.1, -1.5) to add in queue.\n",
      "[Open3D INFO] No point has been picked.\n",
      "[Open3D INFO] No point has been picked.\n",
      "[Open3D INFO] No point has been picked.\n",
      "[Open3D INFO] Picked point #378 (0.3, -0.092, -1.4) to add in queue.\n"
     ]
    }
   ],
   "source": [
    "#Code  for picking specific points: shift+left click to select, shift+right click to deselect\n",
    "#close visualization window to return selected points\n",
    "import numpy as np\n",
    "from LineMesh import *\n",
    "\n",
    "vis = o3d.visualization.VisualizerWithEditing()\n",
    "vis.create_window()\n",
    "vis.add_geometry(dpcd)\n",
    "vis.run()  \n",
    "vis.destroy_window()\n",
    "pdata = vis.get_picked_points()\n"
   ]
  },
  {
   "cell_type": "code",
   "execution_count": 29,
   "metadata": {},
   "outputs": [],
   "source": [
    "import networkx as nx\n",
    "G = nx.Graph()\n",
    "\n",
    "pcd_tree = o3d.geometry.KDTreeFlann(dpcd)\n",
    "count=0\n",
    "for vertex in dpcd.points:\n",
    "    [k, idx, _] = pcd_tree.search_knn_vector_3d(vertex, 5)\n",
    "    for v_curr in idx:\n",
    "        current_vertex=dpcd.points[v_curr]\n",
    "        if not (count==v_curr):\n",
    "            dist = np.sqrt(np.sum((vertex-current_vertex)**2, axis=0))\n",
    "            G.add_edge(count,v_curr,weight=dist)\n",
    "    count=count+1\n",
    "\n",
    "path=(nx.dijkstra_path(G,pdata[0],pdata[1]))\n",
    "foundpcd = dpcd.select_by_index(path)\n",
    "foundpcd.paint_uniform_color([1, 0, 0])\n",
    "dpcd.paint_uniform_color([0,1,0])\n",
    "o3d.visualization.draw_geometries([dpcd,foundpcd])"
   ]
  }
 ],
 "metadata": {
  "interpreter": {
   "hash": "31f2aee4e71d21fbe5cf8b01ff0e069b9275f58929596ceb00d14d90e3e16cd6"
  },
  "kernelspec": {
   "display_name": "Python 3.6.9 64-bit",
   "language": "python",
   "name": "python3"
  },
  "language_info": {
   "codemirror_mode": {
    "name": "ipython",
    "version": 3
   },
   "file_extension": ".py",
   "mimetype": "text/x-python",
   "name": "python",
   "nbconvert_exporter": "python",
   "pygments_lexer": "ipython3",
   "version": "3.6.9"
  },
  "orig_nbformat": 4
 },
 "nbformat": 4,
 "nbformat_minor": 2
}
