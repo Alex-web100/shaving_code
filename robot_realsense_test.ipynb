{
 "cells": [
  {
   "cell_type": "code",
   "execution_count": 14,
   "metadata": {},
   "outputs": [],
   "source": [
    "import time\n",
    "import stretch_body.robot\n",
    "import numpy as np\n",
    "from stretch_body.hello_utils import ThreadServiceExit"
   ]
  },
  {
   "cell_type": "code",
   "execution_count": 106,
   "metadata": {},
   "outputs": [
    {
     "data": {
      "text/plain": [
       "True"
      ]
     },
     "execution_count": 106,
     "metadata": {},
     "output_type": "execute_result"
    }
   ],
   "source": [
    "robot=stretch_body.robot.Robot()\n",
    "robot.startup()"
   ]
  },
  {
   "cell_type": "code",
   "execution_count": 77,
   "metadata": {},
   "outputs": [],
   "source": [
    "import open3d as o3d\n",
    "pcd = o3d.io.read_point_cloud(\"/home/hello-robot/Documents/shaving_code-main/2022-05-27.ply\")\n",
    "pcd_select = o3d.io.read_point_cloud(\"/home/hello-robot/Documents/shaving_code-main/2022-05-27-selected.ply\")\n",
    "\n",
    "#Selected Points Visualization\n",
    "pcd = pcd.voxel_down_sample(voxel_size=0.035)\n",
    "pcd_select.paint_uniform_color([1, 0, 0])\n",
    "#foundpcl = foundpcl.voxel_down_sample(voxel_size=0.025)\n",
    "o3d.visualization.draw_geometries([pcd,pcd_select])"
   ]
  },
  {
   "cell_type": "code",
   "execution_count": 90,
   "metadata": {},
   "outputs": [
    {
     "name": "stdout",
     "output_type": "stream",
     "text": [
      "[[-0.05665165 -0.15315214 -1.45853247]\n",
      " [ 0.11154653 -0.1450643  -1.44658673]\n",
      " [ 0.07704861 -0.14517879 -1.4443972 ]\n",
      " [ 0.04151017 -0.14437921 -1.44896465]\n",
      " [-0.09887614 -0.14483041 -1.44918687]\n",
      " [-0.16936556 -0.14412702 -1.46133163]\n",
      " [ 0.14666707 -0.14454011 -1.448355  ]\n",
      " [-0.0684549  -0.14148999 -1.45046617]\n",
      " [-0.13339232 -0.14154472 -1.45144737]\n",
      " [-0.02670315 -0.13792218 -1.44898039]\n",
      " [ 0.00642124 -0.14345498 -1.44811351]]\n",
      "sorted by x position\n",
      "[[-0.16936556 -0.15315214 -1.46133163]\n",
      " [-0.13339232 -0.14517879 -1.45853247]\n",
      " [-0.09887614 -0.1450643  -1.45144737]\n",
      " [-0.0684549  -0.14483041 -1.45046617]\n",
      " [-0.05665165 -0.14454011 -1.44918687]\n",
      " [-0.02670315 -0.14437921 -1.44898039]\n",
      " [ 0.00642124 -0.14412702 -1.44896465]\n",
      " [ 0.04151017 -0.14345498 -1.448355  ]\n",
      " [ 0.07704861 -0.14154472 -1.44811351]\n",
      " [ 0.11154653 -0.14148999 -1.44658673]\n",
      " [ 0.14666707 -0.13792218 -1.4443972 ]]\n"
     ]
    }
   ],
   "source": [
    "sel = np.asarray(pcd_select.points)\n",
    "print(sel)\n",
    "print(\"sorted by x position\")\n",
    "selsort = np.sort(sel,axis=0)\n",
    "print(np.sort(sel,axis=0))"
   ]
  },
  {
   "cell_type": "code",
   "execution_count": 127,
   "metadata": {},
   "outputs": [],
   "source": [
    "#Calculated height w/ ref to bot (largeish margin of error) : 2 (.1 meter added to avoid collisiion w/ wrist)\n",
    "prev_base_pos = selsort[0][0]\n",
    "for point in selsort:\n",
    "    base_adjust=point[0]-prev_base_pos\n",
    "\n",
    "    robot.base.translate_by(base_adjust)\n",
    "    robot.push_command()\n",
    "    time.sleep(3)\n",
    "\n",
    "    robot.lift.move_to(2.35+point[2])\n",
    "    robot.push_command()\n",
    "    \n",
    "    prev_base_pos=point[0]\n",
    "    time.sleep(3)"
   ]
  },
  {
   "cell_type": "code",
   "execution_count": 128,
   "metadata": {},
   "outputs": [
    {
     "name": "stdout",
     "output_type": "stream",
     "text": [
      "arm status: 0.2617865698672953\n",
      "lift status: 0.905603380189536\n",
      "wrist roll status: -0.056757289151768725\n",
      "wrist pitch status: -0.32673790781964157\n",
      "wrist yaw status: 1.668843265487254\n"
     ]
    }
   ],
   "source": [
    "print(\"arm status: \" + str(robot.arm.status['pos']))\n",
    "print(\"lift status: \" + str(robot.lift.status['pos']))\n",
    "print(\"wrist roll status: \" + str(robot.end_of_arm.status['wrist_roll']['pos']))\n",
    "print(\"wrist pitch status: \" + str(robot.end_of_arm.status['wrist_pitch']['pos']))\n",
    "print(\"wrist yaw status: \" + str(robot.end_of_arm.status['wrist_yaw']['pos']))"
   ]
  },
  {
   "cell_type": "code",
   "execution_count": 105,
   "metadata": {},
   "outputs": [],
   "source": [
    "robot.stop()\n"
   ]
  },
  {
   "cell_type": "code",
   "execution_count": 97,
   "metadata": {},
   "outputs": [
    {
     "name": "stdout",
     "output_type": "stream",
     "text": [
      "0.0\n",
      "0.035973233754028056\n",
      "0.07048941874871174\n",
      "0.1009106591299678\n",
      "0.11271390417439708\n",
      "0.1426624022008804\n",
      "0.1757867963981247\n",
      "0.2108757253143682\n",
      "0.2464141621972154\n",
      "0.2809120852040816\n",
      "0.3160326211224491\n"
     ]
    }
   ],
   "source": [
    "prev_base_pos = selsort[0][0]\n",
    "for point in selsort:\n",
    "    base_adjust=point[0]-prev_base_pos\n",
    "    print(base_adjust)"
   ]
  },
  {
   "cell_type": "code",
   "execution_count": 126,
   "metadata": {},
   "outputs": [],
   "source": [
    "robot.end_of_arm.move_by('wrist_pitch',0.1)"
   ]
  },
  {
   "cell_type": "code",
   "execution_count": null,
   "metadata": {},
   "outputs": [],
   "source": []
  }
 ],
 "metadata": {
  "interpreter": {
   "hash": "ecc0f47bb9bd85c2d4073ea7f239f5212cec390f70e344c7b53d1980a8418312"
  },
  "kernelspec": {
   "display_name": "Python 3.9.5 ('base')",
   "language": "python",
   "name": "python3"
  },
  "language_info": {
   "codemirror_mode": {
    "name": "ipython",
    "version": 3
   },
   "file_extension": ".py",
   "mimetype": "text/x-python",
   "name": "python",
   "nbconvert_exporter": "python",
   "pygments_lexer": "ipython3",
   "version": "3.9.5"
  },
  "orig_nbformat": 4
 },
 "nbformat": 4,
 "nbformat_minor": 2
}
